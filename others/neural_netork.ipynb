{
 "cells": [
  {
   "cell_type": "markdown",
   "metadata": {},
   "source": [
    "#installs"
   ]
  },
  {
   "cell_type": "code",
   "execution_count": 6,
   "metadata": {},
   "outputs": [
    {
     "name": "stdout",
     "output_type": "stream",
     "text": [
      "Collecting git+https://github.com/delbempedro/ic\n",
      "  Cloning https://github.com/delbempedro/ic to /tmp/pip-req-build-aegsyk51\n",
      "  Running command git clone --filter=blob:none --quiet https://github.com/delbempedro/ic /tmp/pip-req-build-aegsyk51\n",
      "  Resolved https://github.com/delbempedro/ic to commit e903abfe390bff7f6f739f0a1b4edf3e739949a7\n",
      "  Preparing metadata (setup.py) ... \u001b[?25ldone\n",
      "\u001b[?25hNote: you may need to restart the kernel to use updated packages.\n"
     ]
    }
   ],
   "source": [
    "%pip install git+https://github.com/delbempedro/ic"
   ]
  },
  {
   "cell_type": "markdown",
   "metadata": {},
   "source": [
    "#imports"
   ]
  },
  {
   "cell_type": "code",
   "execution_count": 7,
   "metadata": {},
   "outputs": [],
   "source": [
    "from ic import *\n",
    "from qiskit import QuantumCircuit\n",
    "from qiskit_aer import AerSimulator\n",
    "from qiskit_ibm_runtime import QiskitRuntimeService, Session, SamplerV2 as Sampler\n",
    "from qiskit.transpiler.preset_passmanagers import generate_preset_pass_manager\n",
    "from qiskit.circuit.library import RGate\n",
    "from math import pi"
   ]
  },
  {
   "cell_type": "markdown",
   "metadata": {},
   "source": [
    "#code"
   ]
  },
  {
   "cell_type": "code",
   "execution_count": 8,
   "metadata": {},
   "outputs": [],
   "source": [
    "service = QiskitRuntimeService()"
   ]
  },
  {
   "cell_type": "code",
   "execution_count": 23,
   "metadata": {},
   "outputs": [],
   "source": [
    "input1 = 1.0\n",
    "input2 = 1.0\n",
    "input3 = 1.0\n",
    "\n",
    "weight1 = pi\n",
    "weight2 = pi\n",
    "weight3 = pi"
   ]
  },
  {
   "cell_type": "code",
   "execution_count": 24,
   "metadata": {},
   "outputs": [],
   "source": [
    "static_angle = 0"
   ]
  },
  {
   "cell_type": "code",
   "execution_count": 21,
   "metadata": {},
   "outputs": [
    {
     "data": {
      "text/plain": [
       "\"qc = current_circuit(3,1)\\n\\nqc.get_current_circuit().h(0)\\nqc.get_current_circuit().h(1)\\nqc.get_current_circuit().cu(input1,static_angle,static_angle,static_angle,[0],[1])\\nqc.get_current_circuit().x(1)\\nqc.get_current_circuit().cu(input2,static_angle,static_angle,static_angle,[0],[1])\\nqc.get_current_circuit().x(1)\\nqc.get_current_circuit().cu(input3,static_angle,static_angle,static_angle,[0],[1])\\nqc.get_current_circuit().cu(weight1,static_angle,static_angle,static_angle,[0],[1]).inverse()\\nqc.get_current_circuit().x(1)\\nqc.get_current_circuit().cu(weight2,static_angle,static_angle,static_angle,[0],[1]).inverse()\\nqc.get_current_circuit().x(1)\\nqc.get_current_circuit().cu(weight3,static_angle,static_angle,static_angle,[0],[1]).inverse()\\nqc.get_current_circuit().h(0)\\nqc.get_current_circuit().h(1)\\nqc.get_current_circuit().x(0)\\nqc.get_current_circuit().x(1)\\nqc.get_current_circuit().ccx(0,1,2)\\nqc.get_current_circuit().measure(2,0)\\nqc.get_current_circuit().draw(output='mpl',style='iqp')\""
      ]
     },
     "execution_count": 21,
     "metadata": {},
     "output_type": "execute_result"
    }
   ],
   "source": [
    "qc = current_circuit(3,1)\n",
    "\n",
    "qc.get_current_circuit().h(0)\n",
    "qc.get_current_circuit().h(1)\n",
    "qc.get_current_circuit().cu(input1,static_angle,static_angle,static_angle,[0],[1])\n",
    "qc.get_current_circuit().x(1)\n",
    "qc.get_current_circuit().cu(input2,static_angle,static_angle,static_angle,[0],[1])\n",
    "qc.get_current_circuit().x(1)\n",
    "qc.get_current_circuit().cu(input3,static_angle,static_angle,static_angle,[0],[1])\n",
    "qc.get_current_circuit().cu(weight1,static_angle,static_angle,static_angle,[0],[1]).inverse()\n",
    "qc.get_current_circuit().x(1)\n",
    "qc.get_current_circuit().cu(weight2,static_angle,static_angle,static_angle,[0],[1]).inverse()\n",
    "qc.get_current_circuit().x(1)\n",
    "qc.get_current_circuit().cu(weight3,static_angle,static_angle,static_angle,[0],[1]).inverse()\n",
    "qc.get_current_circuit().h(0)\n",
    "qc.get_current_circuit().h(1)\n",
    "qc.get_current_circuit().x(0)\n",
    "qc.get_current_circuit().x(1)\n",
    "qc.get_current_circuit().ccx(0,1,2)\n",
    "qc.get_current_circuit().measure(2,0)\n",
    "qc.get_current_circuit().draw(output='mpl',style='iqp')"
   ]
  },
  {
   "cell_type": "code",
   "execution_count": 11,
   "metadata": {},
   "outputs": [
    {
     "data": {
      "text/plain": [
       "{'0': 1024}"
      ]
     },
     "execution_count": 11,
     "metadata": {},
     "output_type": "execute_result"
    }
   ],
   "source": [
    "qc.run_circuit(\"3\",service)"
   ]
  },
  {
   "cell_type": "code",
   "execution_count": 12,
   "metadata": {},
   "outputs": [
    {
     "data": {
      "image/png": "[encoded data removed]",
      "text/plain": [
       "<Figure size 1625.27x367.889 with 1 Axes>"
      ]
     },
     "execution_count": 12,
     "metadata": {},
     "output_type": "execute_result"
    }
   ],
   "source": [
    "qc.get_current_circuit().draw('mpl')"
   ]
  }
 ],
 "metadata": {
  "kernelspec": {
   "display_name": "condaenv",
   "language": "python",
   "name": "python3"
  },
  "language_info": {
   "codemirror_mode": {
    "name": "ipython",
    "version": 3
   },
   "file_extension": ".py",
   "mimetype": "text/x-python",
   "name": "python",
   "nbconvert_exporter": "python",
   "pygments_lexer": "ipython3",
   "version": "3.12.5"
  }
 },
 "nbformat": 4,
 "nbformat_minor": 2
}
