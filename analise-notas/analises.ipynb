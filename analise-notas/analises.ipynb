{
 "cells": [
  {
   "cell_type": "code",
   "execution_count": 1,
   "metadata": {},
   "outputs": [
    {
     "name": "stdout",
     "output_type": "stream",
     "text": [
      "Pandas importado com sucesso!\n"
     ]
    }
   ],
   "source": [
    "import pandas as pd\n",
    "\n",
    "# Configuração para mostrar todas as colunas, se necessário\n",
    "pd.set_option('display.max_columns', None)\n",
    "\n",
    "print(\"Pandas importado com sucesso!\")"
   ]
  },
  {
   "cell_type": "code",
   "execution_count": 2,
   "metadata": {},
   "outputs": [
    {
     "name": "stdout",
     "output_type": "stream",
     "text": [
      "Insira o arquivo (data) da base de dados no diretório 'data':\n",
      "Arquivo a ser lido: data/historico14-07_data.csv\n"
     ]
    }
   ],
   "source": [
    "# O caminho para o arquivo CSV dentro da pasta 'data'\n",
    "print(\"Insira o arquivo (data) da base de dados no diretório 'data':\")\n",
    "data_file=input()\n",
    "file_path = f\"data/historico{data_file}_data.csv\"\n",
    "print(f\"Arquivo a ser lido: {file_path}\")"
   ]
  },
  {
   "cell_type": "code",
   "execution_count": 3,
   "metadata": {},
   "outputs": [
    {
     "name": "stdout",
     "output_type": "stream",
     "text": [
      "Lendo data/historico14-07_data.csv...\n"
     ]
    }
   ],
   "source": [
    "# pd.read_csv() lê o arquivo e o transforma em um DataFrame\n",
    "df = pd.read_csv(file_path)\n",
    "\n",
    "print(f\"Lendo {file_path}...\")"
   ]
  },
  {
   "cell_type": "code",
   "execution_count": 4,
   "metadata": {},
   "outputs": [
    {
     "name": "stdout",
     "output_type": "stream",
     "text": [
      "    SEMESTER UNIT  YEAR ANUAL SEMESTER  \\\n",
      "0        NaN  760  2025          Anual   \n",
      "1        1.0  760  2022    1º Semestre   \n",
      "2        1.0  760  2022    1º Semestre   \n",
      "3        1.0  760  2022    1º Semestre   \n",
      "4        1.0  760  2022    1º Semestre   \n",
      "5        1.0  SMA  2022    1º Semestre   \n",
      "6        1.0  SMA  2022    1º Semestre   \n",
      "7        2.0  750  2022    2º Semestre   \n",
      "8        2.0  750  2022    2º Semestre   \n",
      "9        2.0  760  2022    2º Semestre   \n",
      "10       2.0  760  2022    2º Semestre   \n",
      "11       2.0  760  2022    2º Semestre   \n",
      "12       2.0  760  2022    2º Semestre   \n",
      "13       2.0  SMA  2022    2º Semestre   \n",
      "14       2.0  SME  2022    2º Semestre   \n",
      "15       3.0  760  2023    1º Semestre   \n",
      "16       3.0  760  2023    1º Semestre   \n",
      "17       3.0  760  2023    1º Semestre   \n",
      "18       3.0  760  2023    1º Semestre   \n",
      "19       3.0  760  2023    1º Semestre   \n",
      "20       3.0  SMA  2023    1º Semestre   \n",
      "21       4.0  760  2023    2º Semestre   \n",
      "22       4.0  760  2023    2º Semestre   \n",
      "23       4.0  760  2023    2º Semestre   \n",
      "24       4.0  760  2023    2º Semestre   \n",
      "25       4.0  SCC  2023    2º Semestre   \n",
      "26       4.0  SMA  2023    2º Semestre   \n",
      "27       5.0  760  2024    1º Semestre   \n",
      "28       5.0  760  2024    1º Semestre   \n",
      "29       5.0  760  2024    1º Semestre   \n",
      "30       5.0  760  2024    1º Semestre   \n",
      "31       6.0  760  2024    2º Semestre   \n",
      "32       6.0  760  2024    2º Semestre   \n",
      "33       7.0  760  2025    1º Semestre   \n",
      "34       7.0  760  2025    1º Semestre   \n",
      "35       7.0  760  2025    1º Semestre   \n",
      "36       7.0  760  2025    1º Semestre   \n",
      "37       8.0  760  2025    2º Semestre   \n",
      "38       8.0  PRG  2025    2º Semestre   \n",
      "39       8.0  PRG  2025    2º Semestre   \n",
      "\n",
      "                                         COURSE NAME  TOTAL CREDITS  \\\n",
      "0                     Trabalho de Conclusão de Curso              4   \n",
      "1                                           Física I              5   \n",
      "2                             Seminários de Física I              1   \n",
      "3                         Direcionamento Acadêmico I              2   \n",
      "4                            Laboratório de Física I              3   \n",
      "5                                          Cálculo I              4   \n",
      "6               Álgebra Linear e Geometria Analítica              6   \n",
      "7                                      Química Geral              2   \n",
      "8                         Química Geral Experimental              2   \n",
      "9                                          Física II              5   \n",
      "10                           Seminários de Física II              1   \n",
      "11                       Direcionamento Acadêmico II              2   \n",
      "12                          Laboratório de Física II              3   \n",
      "13                                        Cálculo II              4   \n",
      "14        Fundamentos da Programação de Computadores              6   \n",
      "15                                        Física III              4   \n",
      "16                         Laboratório de Física III              4   \n",
      "17                    Introdução à Física Matemática              4   \n",
      "18                                 Vibrações e Ondas              3   \n",
      "19                   Programação Orientada a Objetos              4   \n",
      "20                                       Cálculo III              4   \n",
      "21                                         Física IV              4   \n",
      "22                 Introdução à Física Computacional              4   \n",
      "23                                 Mecânica Clássica              5   \n",
      "24                          Astronomia e Astrofísica              4   \n",
      "25                               Estruturas de Dados              5   \n",
      "26                                        Cálculo IV              4   \n",
      "27                                    Física Moderna              4   \n",
      "28                                 Física Matemática              4   \n",
      "29                                  Eletromagnetismo              5   \n",
      "30             Introdução aos Sistemas de Computação              4   \n",
      "31                               Mecânica Quântica A              4   \n",
      "32                Termodinâmica e Física Estatística              4   \n",
      "33                   Introdução à Relatividade Geral              4   \n",
      "34                               Mecânica Quântica B              4   \n",
      "35                           Sistemas Operacionais 3              1   \n",
      "36                   Mecânica Quântica Computacional              3   \n",
      "37                  Laboratório Avançado de Física I             10   \n",
      "38    Segurança em Laboratórios de Ensino e Pesquisa              3   \n",
      "39  Disciplina Paulista de Acessibilidade e Inclusão              5   \n",
      "\n",
      "    LECTURE CREDITS  WORK CREDITS GRADE  \n",
      "0                 4             0    MA  \n",
      "1                 5             0   5.1  \n",
      "2                 1             0   7.0  \n",
      "3                 2             0   8.3  \n",
      "4                 2             1   7.7  \n",
      "5                 4             0   5.7  \n",
      "6                 5             1   7.6  \n",
      "7                 2             0   6.5  \n",
      "8                 2             0   5.0  \n",
      "9                 5             0   5.6  \n",
      "10                1             0  10.0  \n",
      "11                2             0  10.0  \n",
      "12                2             1   7.1  \n",
      "13                4             0   8.1  \n",
      "14                4             2  10.0  \n",
      "15                3             1   7.8  \n",
      "16                4             0   7.5  \n",
      "17                3             1   8.1  \n",
      "18                2             1   7.2  \n",
      "19                3             1   8.8  \n",
      "20                4             0   8.3  \n",
      "21                3             1   8.2  \n",
      "22                3             1   8.7  \n",
      "23                4             1   8.7  \n",
      "24                4             0   9.7  \n",
      "25                4             1   7.9  \n",
      "26                4             0   7.0  \n",
      "27                4             0   9.2  \n",
      "28                3             1   9.0  \n",
      "29                4             1   9.5  \n",
      "30                3             1   6.3  \n",
      "31                4             0   9.7  \n",
      "32                4             0   8.4  \n",
      "33                4             0   7.5  \n",
      "34                4             0   7.7  \n",
      "35                1             0    MA  \n",
      "36                2             1   8.0  \n",
      "37                8             2    IL  \n",
      "38                2             1    IR  \n",
      "39                5             0    IR  \n"
     ]
    }
   ],
   "source": [
    "print(df)"
   ]
  },
  {
   "cell_type": "code",
   "execution_count": 5,
   "metadata": {},
   "outputs": [],
   "source": [
    "def media_ponderada_geral(df, precision):\n",
    "    \"\"\"\n",
    "    Calcula e imprime a média ponderada geral de um DataFrame de histórico escolar\n",
    "    com um número personalizável de casas decimais.\n",
    "    ESTA VERSÃO NÃO MODIFICA O DATAFRAME ORIGINAL.\n",
    "    \"\"\"\n",
    "    # FIX: Trabalha em uma cópia para não alterar o DataFrame original\n",
    "    df = df.copy()\n",
    "\n",
    "    # Garante que as colunas necessárias são numéricas, tratando erros\n",
    "    df['GRADE'] = pd.to_numeric(df['GRADE'], errors='coerce')\n",
    "    df['TOTAL CREDITS'] = pd.to_numeric(df['TOTAL CREDITS'], errors='coerce')\n",
    "\n",
    "    # Filtra apenas as linhas com notas válidas para o cálculo\n",
    "    df_com_notas = df.dropna(subset=['GRADE'])\n",
    "\n",
    "    # Evita divisão por zero se não houver créditos válidos\n",
    "    if df_com_notas['TOTAL CREDITS'].sum() == 0:\n",
    "        print(\"Não há créditos válidos para calcular a média.\")\n",
    "        return\n",
    "\n",
    "    # Calcula os componentes da média ponderada\n",
    "    soma_ponderada_notas = (df_com_notas['GRADE'] * df_com_notas['TOTAL CREDITS']).sum()\n",
    "    total_creditos_validos = df_com_notas['TOTAL CREDITS'].sum()\n",
    "\n",
    "    # Calcula a média final\n",
    "    media = soma_ponderada_notas / total_creditos_validos\n",
    "\n",
    "    # Usa a variável 'precision' para formatar a string de saída\n",
    "    print(f\"Sua Média Ponderada Geral é: {media:.{precision}f}\")"
   ]
  },
  {
   "cell_type": "code",
   "execution_count": 6,
   "metadata": {},
   "outputs": [
    {
     "name": "stdout",
     "output_type": "stream",
     "text": [
      "Sua Média Ponderada Geral é: 7.9313\n"
     ]
    }
   ],
   "source": [
    "media_ponderada_geral(df,4)"
   ]
  },
  {
   "cell_type": "code",
   "execution_count": 7,
   "metadata": {},
   "outputs": [
    {
     "name": "stdout",
     "output_type": "stream",
     "text": [
      "--- Nota de Sistemas Operacionais atualizada! ---\n",
      "Empty DataFrame\n",
      "Columns: [SEMESTER, UNIT, YEAR, ANUAL SEMESTER, COURSE NAME, TOTAL CREDITS, LECTURE CREDITS, WORK CREDITS, GRADE]\n",
      "Index: []\n"
     ]
    }
   ],
   "source": [
    "modified_df = df.copy()\n",
    "\n",
    "# Coloque aqui a sua nota de Sistemas Operacionais\n",
    "sua_nova_nota = 8.0\n",
    "\n",
    "# Usa .loc para encontrar a linha e atualizar a coluna 'GRADE'\n",
    "modified_df.loc[modified_df['COURSE NAME'] == 'Sistemas Operacionais', 'GRADE'] = sua_nova_nota\n",
    "\n",
    "print(\"--- Nota de Sistemas Operacionais atualizada! ---\")\n",
    "\n",
    "# Vamos verificar a linha modificada para confirmar a alteração\n",
    "print(modified_df[modified_df['COURSE NAME'] == 'Sistemas Operacionais'])"
   ]
  },
  {
   "cell_type": "code",
   "execution_count": 8,
   "metadata": {},
   "outputs": [
    {
     "name": "stdout",
     "output_type": "stream",
     "text": [
      "Sua Média Ponderada Geral é: 7.9313\n"
     ]
    }
   ],
   "source": [
    "media_ponderada_geral(modified_df,4)"
   ]
  },
  {
   "cell_type": "code",
   "execution_count": 9,
   "metadata": {},
   "outputs": [
    {
     "name": "stdout",
     "output_type": "stream",
     "text": [
      "Nota de 'Sistemas Operacionais' foi atualizada para 8.0 no DataFrame 'modified_df'.\n",
      "-----------------------------------------------------------------\n",
      "\n",
      "--- Média Ponderada Original (sem a nota de SO) ---\n",
      "Sua Média Ponderada Geral é: 7.9313\n",
      "\n",
      "--- Média Ponderada Nova (com a nota de SO = 8.0) ---\n",
      "Sua Média Ponderada Geral é: 7.9313\n"
     ]
    }
   ],
   "source": [
    "# --- FLUXO DE VERIFICAÇÃO COMPLETO (AGORA COM A FUNÇÃO CORRIGIDA) ---\n",
    "\n",
    "# 1. Crie uma cópia limpa do DataFrame original para a simulação\n",
    "modified_df = df.copy()\n",
    "\n",
    "# 2. Defina a nova nota e atualize-a no DataFrame modificado\n",
    "sua_nova_nota = 8.0\n",
    "modified_df.loc[modified_df['COURSE NAME'] == 'Sistemas Operacionais', 'GRADE'] = sua_nova_nota\n",
    "\n",
    "print(f\"Nota de 'Sistemas Operacionais' foi atualizada para {sua_nova_nota} no DataFrame 'modified_df'.\")\n",
    "print(\"-----------------------------------------------------------------\")\n",
    "\n",
    "\n",
    "# 3. Calcule e exiba a média Ponderada ANTES da mudança (usando o 'df' original)\n",
    "print(\"\\n--- Média Ponderada Original (sem a nota de SO) ---\")\n",
    "media_ponderada_geral(df, 4)\n",
    "\n",
    "\n",
    "# 4. Calcule e exiba a média Ponderada DEPOIS da mudança (usando o 'modified_df')\n",
    "print(\"\\n--- Média Ponderada Nova (com a nota de SO = 8.0) ---\")\n",
    "media_ponderada_geral(modified_df, 4)"
   ]
  },
  {
   "cell_type": "code",
   "execution_count": 16,
   "metadata": {},
   "outputs": [
    {
     "name": "stdout",
     "output_type": "stream",
     "text": [
      "DataFrame recarregado com sucesso de 'data/historico14-07_data.csv'.\n",
      "\n",
      "Nota de 'Sistemas Operacionais' ATUALIZADA para 8.0.\n",
      "Verificação da linha modificada:\n",
      "    SEMESTER UNIT  YEAR ANUAL SEMESTER            COURSE NAME  TOTAL CREDITS  \\\n",
      "35       7.0  760  2025    1º Semestre  Sistemas Operacionais              4   \n",
      "\n",
      "    LECTURE CREDITS  WORK CREDITS GRADE  \n",
      "35                3             1   8.0  \n",
      "\n",
      "--- Média Ponderada Original ---\n",
      "Sua Média Ponderada Geral é: 7.6247\n",
      "\n",
      "--- Média Ponderada Modificada ---\n",
      "Sua Média Ponderada Geral é: 7.6260\n"
     ]
    }
   ],
   "source": [
    "# --- TENTATIVA FINAL E DEFINITIVA ---\n",
    "import pandas as pd\n",
    "\n",
    "# Recarregue os dados para garantir que estamos começando do zero\n",
    "# Verifique se o caminho do arquivo está correto\n",
    "csv_path = 'data/historico14-07_data.csv'\n",
    "try:\n",
    "    df = pd.read_csv(csv_path)\n",
    "    print(f\"DataFrame recarregado com sucesso de '{csv_path}'.\")\n",
    "except Exception as e:\n",
    "    print(f\"Erro ao ler o arquivo: {e}\")\n",
    "    # Interrompe a execução se o arquivo não puder ser lido\n",
    "    df = None\n",
    "\n",
    "# Função final e corrigida\n",
    "def media_ponderada_geral(df_input, precision):\n",
    "    df = df_input.copy()\n",
    "    df['GRADE'] = pd.to_numeric(df['GRADE'], errors='coerce')\n",
    "    df['TOTAL CREDITS'] = pd.to_numeric(df['TOTAL CREDITS'], errors='coerce')\n",
    "    df_com_notas = df.dropna(subset=['GRADE'])\n",
    "    if df_com_notas['TOTAL CREDITS'].sum() == 0:\n",
    "        print(\"Não há créditos válidos para calcular a média.\")\n",
    "        return\n",
    "    soma_ponderada_notas = (df_com_notas['GRADE'] * df_com_notas['TOTAL CREDITS']).sum()\n",
    "    total_creditos_validos = df_com_notas['TOTAL CREDITS'].sum()\n",
    "    media = soma_ponderada_notas / total_creditos_validos\n",
    "    print(f\"Sua Média Ponderada Geral é: {media:.{precision}f}\")\n",
    "\n",
    "\n",
    "if df is not None:\n",
    "    # --- SIMULAÇÃO ---\n",
    "    # Crie a cópia\n",
    "    modified_df = df.copy()\n",
    "\n",
    "    # Defina a nova nota\n",
    "    sua_nova_nota = 8.0\n",
    "\n",
    "    # ---- A MUDANÇA MAIS IMPORTANTE ESTÁ AQUI ----\n",
    "    # Em vez de '==', usamos '.str.contains()' que é mais robusto a espaços e outros caracteres\n",
    "    condicao = modified_df['COURSE NAME'].str.contains('Sistemas Operacionais', case=False, na=False)\n",
    "    \n",
    "    # Verifique se a condição encontrou a disciplina\n",
    "    if condicao.sum() == 0:\n",
    "        print(\"\\nERRO CRÍTICO: A disciplina 'Sistemas Operacionais' não foi encontrada no DataFrame. Verifique o nome no CSV.\")\n",
    "    else:\n",
    "        # Aplique a modificação\n",
    "        modified_df.loc[condicao, 'GRADE'] = sua_nova_nota\n",
    "        print(f\"\\nNota de 'Sistemas Operacionais' ATUALIZADA para {sua_nova_nota}.\")\n",
    "        # Mostre a linha alterada para provar que a modificação funcionou\n",
    "        print(\"Verificação da linha modificada:\")\n",
    "        print(modified_df[condicao])\n",
    "\n",
    "    # --- COMPARAÇÃO FINAL ---\n",
    "    print(\"\\n--- Média Ponderada Original ---\")\n",
    "    media_ponderada_geral(df, 4)\n",
    "\n",
    "    print(\"\\n--- Média Ponderada Modificada ---\")\n",
    "    media_ponderada_geral(modified_df, 4)"
   ]
  },
  {
   "cell_type": "code",
   "execution_count": 13,
   "metadata": {},
   "outputs": [
    {
     "name": "stdout",
     "output_type": "stream",
     "text": [
      "Usando a versão do Pandas: 2.2.3\n",
      "DataFrame original recarregado com sucesso de 'data/historico14-07_data.csv'.\n",
      "\n",
      "--- EXECUTANDO FUNÇÃO PARA: 'DataFrame Original' ---\n",
      "'DataFrame Original': Cópia interna do DataFrame criada.\n",
      "'DataFrame Original': Estado da disciplina 'SO' nesta cópia: \n",
      "Empty DataFrame\n",
      "Columns: [COURSE NAME, GRADE, TOTAL CREDITS]\n",
      "Index: []\n",
      "\n",
      "'DataFrame Original': Total de créditos que entrarão no cálculo: 131\n",
      "'DataFrame Original': Média calculada final: 7.9313\n",
      "-----------------------------------\n",
      "\n",
      "--- EXECUTANDO FUNÇÃO PARA: 'DataFrame Modificado' ---\n",
      "'DataFrame Modificado': Cópia interna do DataFrame criada.\n",
      "'DataFrame Modificado': Estado da disciplina 'SO' nesta cópia: \n",
      "Empty DataFrame\n",
      "Columns: [COURSE NAME, GRADE, TOTAL CREDITS]\n",
      "Index: []\n",
      "\n",
      "'DataFrame Modificado': Total de créditos que entrarão no cálculo: 131\n",
      "'DataFrame Modificado': Média calculada final: 7.9313\n",
      "-----------------------------------\n",
      "\n",
      "================== RESULTADO FINAL ==================\n",
      "Média Original Calculada:   7.931297709923665\n",
      "Média Modificada Calculada: 7.931297709923665\n",
      "\n",
      "FALHA. As médias ainda são idênticas, o que indica um problema muito incomum com os dados ou o ambiente.\n"
     ]
    }
   ],
   "source": [
    "# --- CÉLULA DE DIAGNÓSTICO DEFINITIVA ---\n",
    "import pandas as pd\n",
    "print(f\"Usando a versão do Pandas: {pd.__version__}\")\n",
    "\n",
    "def media_ponderada_geral_debug(df_input, precision, label):\n",
    "    \"\"\"\n",
    "    Função de depuração que calcula a média ponderada e mostra cada passo.\n",
    "    \"\"\"\n",
    "    print(f\"\\n--- EXECUTANDO FUNÇÃO PARA: '{label}' ---\")\n",
    "    \n",
    "    # Trabalha em uma cópia para não ter efeitos colaterais\n",
    "    df = df_input.copy()\n",
    "    print(f\"'{label}': Cópia interna do DataFrame criada.\")\n",
    "\n",
    "    # Converte os tipos de dados\n",
    "    df['GRADE'] = pd.to_numeric(df['GRADE'], errors='coerce')\n",
    "    df['TOTAL CREDITS'] = pd.to_numeric(df['TOTAL CREDITS'], errors='coerce')\n",
    "\n",
    "    # Mostra o estado da disciplina específica APÓS a conversão de tipo\n",
    "    so_row = df[df['COURSE NAME'] == 'Sistemas Operacionais']\n",
    "    print(f\"'{label}': Estado da disciplina 'SO' nesta cópia: \\n{so_row[['COURSE NAME', 'GRADE', 'TOTAL CREDITS']]}\\n\")\n",
    "\n",
    "    # Filtra as linhas que de fato têm notas numéricas\n",
    "    df_com_notas = df.dropna(subset=['GRADE'])\n",
    "    \n",
    "    total_creditos_calculado = df_com_notas['TOTAL CREDITS'].sum()\n",
    "    print(f\"'{label}': Total de créditos que entrarão no cálculo: {total_creditos_calculado}\")\n",
    "    \n",
    "    if total_creditos_calculado == 0:\n",
    "        print(\"Não há créditos válidos para calcular a média.\")\n",
    "        return\n",
    "\n",
    "    # Calcula os componentes da média\n",
    "    soma_ponderada_notas = (df_com_notas['GRADE'] * df_com_notas['TOTAL CREDITS']).sum()\n",
    "    media = soma_ponderada_notas / total_creditos_calculado\n",
    "    \n",
    "    print(f\"'{label}': Média calculada final: {media:.{precision}f}\")\n",
    "    print(\"-\" * 35)\n",
    "    return media\n",
    "\n",
    "# --- FLUXO DE VERIFICAÇÃO ---\n",
    "\n",
    "# 1. Carregue os dados do CSV novamente para garantir um estado limpo\n",
    "# !!! IMPORTANTE: CONFIRME SE O NOME DO ARQUIVO CSV ABAIXO ESTÁ CORRETO !!!\n",
    "csv_path = 'data/historico14-07_data.csv' \n",
    "try:\n",
    "    df_original = pd.read_csv(csv_path)\n",
    "    print(f\"DataFrame original recarregado com sucesso de '{csv_path}'.\")\n",
    "except FileNotFoundError:\n",
    "    print(f\"ERRO: Arquivo não encontrado em '{csv_path}'. Por favor, verifique o nome e o caminho do arquivo.\")\n",
    "    df_original = None\n",
    "\n",
    "if df_original is not None:\n",
    "    # 2. Crie a cópia modificada\n",
    "    modified_df = df_original.copy()\n",
    "    modified_df.loc[modified_df['COURSE NAME'] == 'Sistemas Operacionais', 'GRADE'] = 8.0\n",
    "\n",
    "    # 3. Execute a função de debug para ambos os DataFrames\n",
    "    media_original = media_ponderada_geral_debug(df_original, 4, \"DataFrame Original\")\n",
    "    media_modificada = media_ponderada_geral_debug(modified_df, 4, \"DataFrame Modificado\")\n",
    "\n",
    "    print(\"\\n================== RESULTADO FINAL ==================\")\n",
    "    print(f\"Média Original Calculada:   {media_original}\")\n",
    "    print(f\"Média Modificada Calculada: {media_modificada}\")\n",
    "    \n",
    "    if media_original and media_modificada and media_original != media_modificada:\n",
    "        print(\"\\nSUCESSO! As médias são diferentes como esperado.\")\n",
    "    else:\n",
    "        print(\"\\nFALHA. As médias ainda são idênticas, o que indica um problema muito incomum com os dados ou o ambiente.\")"
   ]
  }
 ],
 "metadata": {
  "kernelspec": {
   "display_name": "base",
   "language": "python",
   "name": "python3"
  },
  "language_info": {
   "codemirror_mode": {
    "name": "ipython",
    "version": 3
   },
   "file_extension": ".py",
   "mimetype": "text/x-python",
   "name": "python",
   "nbconvert_exporter": "python",
   "pygments_lexer": "ipython3",
   "version": "3.9.7"
  }
 },
 "nbformat": 4,
 "nbformat_minor": 2
}
