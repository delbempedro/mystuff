{
 "cells": [
  {
   "cell_type": "code",
   "execution_count": 29,
   "metadata": {},
   "outputs": [
    {
     "name": "stdout",
     "output_type": "stream",
     "text": [
      "Pandas importado com sucesso!\n"
     ]
    }
   ],
   "source": [
    "import pandas as pd\n",
    "\n",
    "# Configuração para mostrar todas as colunas, se necessário\n",
    "pd.set_option('display.max_columns', None)\n",
    "\n",
    "print(\"Pandas importado com sucesso!\")"
   ]
  },
  {
   "cell_type": "code",
   "execution_count": 30,
   "metadata": {},
   "outputs": [
    {
     "name": "stdout",
     "output_type": "stream",
     "text": [
      "Insira o arquivo (data) da base de dados no diretório 'data':\n"
     ]
    },
    {
     "name": "stdout",
     "output_type": "stream",
     "text": [
      "Arquivo a ser lido: data/historico14-07_data.csv\n"
     ]
    }
   ],
   "source": [
    "# O caminho para o arquivo CSV dentro da pasta 'data'\n",
    "print(\"Insira o arquivo (data) da base de dados no diretório 'data':\")\n",
    "data_file=input()\n",
    "file_path = f\"data/historico{data_file}_data.csv\"\n",
    "print(f\"Arquivo a ser lido: {file_path}\")"
   ]
  },
  {
   "cell_type": "code",
   "execution_count": 31,
   "metadata": {},
   "outputs": [
    {
     "name": "stdout",
     "output_type": "stream",
     "text": [
      "Lendo data/historico14-07_data.csv...\n"
     ]
    }
   ],
   "source": [
    "# pd.read_csv() lê o arquivo e o transforma em um DataFrame\n",
    "df = pd.read_csv(file_path)\n",
    "\n",
    "print(f\"Lendo {file_path}...\")"
   ]
  },
  {
   "cell_type": "code",
   "execution_count": 32,
   "metadata": {},
   "outputs": [
    {
     "name": "stdout",
     "output_type": "stream",
     "text": [
      "    SEMESTER UNIT  YEAR ANUAL SEMESTER  \\\n",
      "0        1.0  760  2022    1º Semestre   \n",
      "1        1.0  760  2022    1º Semestre   \n",
      "2        1.0  760  2022    1º Semestre   \n",
      "3        1.0  760  2022    1º Semestre   \n",
      "4        1.0  SMA  2022    1º Semestre   \n",
      "5        1.0  SMA  2022    1º Semestre   \n",
      "6        2.0  750  2022    2º Semestre   \n",
      "7        2.0  750  2022    2º Semestre   \n",
      "8        2.0  760  2022    2º Semestre   \n",
      "9        2.0  760  2022    2º Semestre   \n",
      "10       2.0  760  2022    2º Semestre   \n",
      "11       2.0  760  2022    2º Semestre   \n",
      "12       2.0  SMA  2022    2º Semestre   \n",
      "13       2.0  SME  2022    2º Semestre   \n",
      "14       3.0  760  2023    1º Semestre   \n",
      "15       3.0  760  2023    1º Semestre   \n",
      "16       3.0  760  2023    1º Semestre   \n",
      "17       3.0  760  2023    1º Semestre   \n",
      "18       3.0  760  2023    1º Semestre   \n",
      "19       3.0  SMA  2023    1º Semestre   \n",
      "20       4.0  760  2023    2º Semestre   \n",
      "21       4.0  760  2023    2º Semestre   \n",
      "22       4.0  760  2023    2º Semestre   \n",
      "23       4.0  760  2023    2º Semestre   \n",
      "24       4.0  SCC  2023    2º Semestre   \n",
      "25       4.0  SMA  2023    2º Semestre   \n",
      "26       5.0  760  2024    1º Semestre   \n",
      "27       5.0  760  2024    1º Semestre   \n",
      "28       5.0  760  2024    1º Semestre   \n",
      "29       5.0  760  2024    1º Semestre   \n",
      "30       6.0  760  2024    2º Semestre   \n",
      "31       6.0  760  2024    2º Semestre   \n",
      "32       6.0  760  2024    2º Semestre   \n",
      "33       6.0  760  2024    2º Semestre   \n",
      "34       NaN  760  2025          Anual   \n",
      "35       7.0  760  2025    1º Semestre   \n",
      "36       7.0  760  2025    1º Semestre   \n",
      "37       7.0  760  2025    1º Semestre   \n",
      "38       7.0  760  2025    1º Semestre   \n",
      "39       8.0  760  2025    2º Semestre   \n",
      "40       8.0  PRG  2025    2º Semestre   \n",
      "41       8.0  PRG  2025    2º Semestre   \n",
      "\n",
      "                                         COURSE NAME  TOTAL CREDITS  \\\n",
      "0                                           Física I              5   \n",
      "1                             Seminários de Física I              1   \n",
      "2                         Direcionamento Acadêmico I              2   \n",
      "3                            Laboratório de Física I              3   \n",
      "4                                          Cálculo I              4   \n",
      "5               Álgebra Linear e Geometria Analítica              6   \n",
      "6                                      Química Geral              2   \n",
      "7                         Química Geral Experimental              2   \n",
      "8                                          Física II              5   \n",
      "9                            Seminários de Física II              1   \n",
      "10                       Direcionamento Acadêmico II              2   \n",
      "11                          Laboratório de Física II              3   \n",
      "12                                        Cálculo II              4   \n",
      "13        Fundamentos da Programação de Computadores              6   \n",
      "14                                        Física III              4   \n",
      "15                         Laboratório de Física III              4   \n",
      "16                    Introdução à Física Matemática              4   \n",
      "17                                 Vibrações e Ondas              3   \n",
      "18                   Programação Orientada a Objetos              4   \n",
      "19                                       Cálculo III              4   \n",
      "20                                         Física IV              4   \n",
      "21                 Introdução à Física Computacional              4   \n",
      "22                                 Mecânica Clássica              5   \n",
      "23                          Astronomia e Astrofísica              4   \n",
      "24                               Estruturas de Dados              5   \n",
      "25                                        Cálculo IV              4   \n",
      "26                                    Fisica Moderna              4   \n",
      "27                                 Fisica Matemática              4   \n",
      "28                                  Eletromagnetismo              5   \n",
      "29             Introdução aos Sistemas de Computação              4   \n",
      "30                               Mecânica Quântica A              4   \n",
      "31                Termodinâmica e Física Estatística              4   \n",
      "32                             Relatividade Restrita              4   \n",
      "33                    Eletromagnetismo Computacional              3   \n",
      "34                    Trabalho de Conclusão de Curso              4   \n",
      "35                   Introdução à Relatividade Geral              4   \n",
      "36                               Mecânica Quântica B              4   \n",
      "37                             Sistemas Operacionais              4   \n",
      "38                   Mecânica Quântica Computacional              3   \n",
      "39                  Laboratório Avançado de Física I             10   \n",
      "40    Segurança em Laboratórios de Ensino e Pesquisa              3   \n",
      "41  Disciplina Paulista de Acessibilidade e Inclusão              5   \n",
      "\n",
      "    LECTURE CREDITS  WORK CREDITS GRADE  \n",
      "0                 5             0   5.1  \n",
      "1                 1             0   7.0  \n",
      "2                 2             0   8.3  \n",
      "3                 2             1   7.7  \n",
      "4                 4             0   5.7  \n",
      "5                 5             1   7.6  \n",
      "6                 2             0   6.5  \n",
      "7                 2             0   5.0  \n",
      "8                 5             0   5.6  \n",
      "9                 1             0  10.0  \n",
      "10                2             0  10.0  \n",
      "11                2             1   7.1  \n",
      "12                4             0   8.1  \n",
      "13                4             2  10.0  \n",
      "14                3             1   7.8  \n",
      "15                4             0   7.5  \n",
      "16                3             1   8.1  \n",
      "17                2             1   7.2  \n",
      "18                3             1   8.8  \n",
      "19                4             0   8.3  \n",
      "20                3             1   8.2  \n",
      "21                3             1   8.7  \n",
      "22                4             1   8.7  \n",
      "23                4             0   9.7  \n",
      "24                4             1   7.9  \n",
      "25                4             0   7.0  \n",
      "26                4             0   9.2  \n",
      "27                3             1   9.0  \n",
      "28                4             1   9.5  \n",
      "29                3             1   6.3  \n",
      "30                4             0   9.7  \n",
      "31                4             0   8.4  \n",
      "32                3             1   7.3  \n",
      "33                2             1   9.3  \n",
      "34                4             0    MA  \n",
      "35                4             0   7.5  \n",
      "36                4             0   7.7  \n",
      "37                3             1    MA  \n",
      "38                2             1   8.0  \n",
      "39                8             2    IL  \n",
      "40                2             1    IR  \n",
      "41                5             0    IR  \n"
     ]
    }
   ],
   "source": [
    "print(df)"
   ]
  },
  {
   "cell_type": "code",
   "execution_count": 33,
   "metadata": {},
   "outputs": [],
   "source": [
    "def media_ponderada_geral(df, precision):\n",
    "    \"\"\"\n",
    "    Calcula e imprime a média ponderada geral de um DataFrame de histórico escolar\n",
    "    com um número personalizável de casas decimais.\n",
    "    ESTA VERSÃO NÃO MODIFICA O DATAFRAME ORIGINAL.\n",
    "    \"\"\"\n",
    "    # FIX: Trabalha em uma cópia para não alterar o DataFrame original\n",
    "    df = df.copy()\n",
    "\n",
    "    # Garante que as colunas necessárias são numéricas, tratando erros\n",
    "    df['GRADE'] = pd.to_numeric(df['GRADE'], errors='coerce')\n",
    "    df['TOTAL CREDITS'] = pd.to_numeric(df['TOTAL CREDITS'], errors='coerce')\n",
    "\n",
    "    # Filtra apenas as linhas com notas válidas para o cálculo\n",
    "    df_com_notas = df.dropna(subset=['GRADE'])\n",
    "\n",
    "    # Evita divisão por zero se não houver créditos válidos\n",
    "    if df_com_notas['TOTAL CREDITS'].sum() == 0:\n",
    "        print(\"Não há créditos válidos para calcular a média.\")\n",
    "        return\n",
    "\n",
    "    # Calcula os componentes da média ponderada\n",
    "    soma_ponderada_notas = (df_com_notas['GRADE'] * df_com_notas['TOTAL CREDITS']).sum()\n",
    "    total_creditos_validos = df_com_notas['TOTAL CREDITS'].sum()\n",
    "\n",
    "    # Calcula a média final\n",
    "    media = soma_ponderada_notas / total_creditos_validos\n",
    "\n",
    "    # Usa a variável 'precision' para formatar a string de saída\n",
    "    print(f\"Sua Média Ponderada Geral é: {media:.{precision}f}\")"
   ]
  },
  {
   "cell_type": "code",
   "execution_count": 34,
   "metadata": {},
   "outputs": [
    {
     "name": "stdout",
     "output_type": "stream",
     "text": [
      "Sua Média Ponderada Geral é: 7.9428\n"
     ]
    }
   ],
   "source": [
    "media_ponderada_geral(df,4)"
   ]
  },
  {
   "cell_type": "code",
   "execution_count": 35,
   "metadata": {},
   "outputs": [],
   "source": [
    "modified_df = df.copy()\n",
    "\n",
    "# Coloque aqui a sua nota de Sistemas Operacionais\n",
    "sua_nova_nota = 8.0\n",
    "\n",
    "# Usa .loc para encontrar a linha e atualizar a coluna 'GRADE'\n",
    "modified_df.loc[modified_df['COURSE NAME'] == 'Sistemas Operacionais', 'GRADE'] = sua_nova_nota"
   ]
  },
  {
   "cell_type": "code",
   "execution_count": 40,
   "metadata": {},
   "outputs": [
    {
     "name": "stdout",
     "output_type": "stream",
     "text": [
      "Sua Média Ponderada Geral é: 7.9444\n"
     ]
    }
   ],
   "source": [
    "media_ponderada_geral(modified_df,4)"
   ]
  }
 ],
 "metadata": {
  "kernelspec": {
   "display_name": "base",
   "language": "python",
   "name": "python3"
  },
  "language_info": {
   "codemirror_mode": {
    "name": "ipython",
    "version": 3
   },
   "file_extension": ".py",
   "mimetype": "text/x-python",
   "name": "python",
   "nbconvert_exporter": "python",
   "pygments_lexer": "ipython3",
   "version": "3.9.7"
  }
 },
 "nbformat": 4,
 "nbformat_minor": 2
}
